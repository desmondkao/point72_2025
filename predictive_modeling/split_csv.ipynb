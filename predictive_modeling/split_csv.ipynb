{
 "cells": [
  {
   "cell_type": "code",
   "execution_count": 1,
   "id": "d8798768-e13d-4c34-86fa-ff748b3648f1",
   "metadata": {},
   "outputs": [
    {
     "name": "stdout",
     "output_type": "stream",
     "text": [
      "Saved predictions for '1 - Cars, Pickups and Vans' to crz_predictions\\1 - Cars, Pickups and Vans_predictions.csv\n",
      "Saved predictions for '2 - Single-Unit Trucks' to crz_predictions\\2 - Single-Unit Trucks_predictions.csv\n",
      "Saved predictions for '3 - Multi-Unit Trucks' to crz_predictions\\3 - Multi-Unit Trucks_predictions.csv\n",
      "Saved predictions for '4 - Buses' to crz_predictions\\4 - Buses_predictions.csv\n",
      "Saved predictions for '5 - Motorcycles' to crz_predictions\\5 - Motorcycles_predictions.csv\n",
      "Saved predictions for 'TLC Taxi/FHV' to crz_predictions\\TLC TaxiFHV_predictions.csv\n"
     ]
    }
   ],
   "source": [
    "import pandas as pd\n",
    "import os\n",
    "import re\n",
    "\n",
    "def sanitize_filename(name):\n",
    "    # Remove characters not allowed in file names.\n",
    "    return re.sub(r'[\\\\/*?:\"<>|]', \"\", name)\n",
    "\n",
    "# Read the full predictions CSV file.\n",
    "df = pd.read_csv(\"future_predictions_by_region_vehicle.csv\")\n",
    "\n",
    "# Define the output folder and create it if it doesn't exist.\n",
    "output_folder = \"crz_predictions\"\n",
    "os.makedirs(output_folder, exist_ok=True)\n",
    "\n",
    "# Get the unique vehicle classes from the DataFrame.\n",
    "vehicle_classes = df['Vehicle Class'].unique()\n",
    "\n",
    "# Split the data by vehicle class and save each subset to a CSV file.\n",
    "for vc in vehicle_classes:\n",
    "    df_vc = df[df['Vehicle Class'] == vc]\n",
    "    safe_vc = sanitize_filename(vc.strip())\n",
    "    filename = f\"{safe_vc}_predictions.csv\"\n",
    "    filepath = os.path.join(output_folder, filename)\n",
    "    df_vc.to_csv(filepath, index=False)\n",
    "    print(f\"Saved predictions for '{vc}' to {filepath}\")\n"
   ]
  },
  {
   "cell_type": "code",
   "execution_count": null,
   "id": "55c4b549-98f7-4360-ae13-649d0a4153f7",
   "metadata": {},
   "outputs": [],
   "source": []
  }
 ],
 "metadata": {
  "kernelspec": {
   "display_name": "Python 3 (ipykernel)",
   "language": "python",
   "name": "python3"
  },
  "language_info": {
   "codemirror_mode": {
    "name": "ipython",
    "version": 3
   },
   "file_extension": ".py",
   "mimetype": "text/x-python",
   "name": "python",
   "nbconvert_exporter": "python",
   "pygments_lexer": "ipython3",
   "version": "3.12.5"
  }
 },
 "nbformat": 4,
 "nbformat_minor": 5
}
