{
 "cells": [
  {
   "cell_type": "code",
   "execution_count": 2,
   "id": "f57e1171-2acd-4908-9792-77c239a27ba8",
   "metadata": {},
   "outputs": [
    {
     "name": "stdout",
     "output_type": "stream",
     "text": [
      "The CSV files have been successfully merged and saved as 'future_predictions_by_region_vehicle_with_details.csv'.\n"
     ]
    }
   ],
   "source": [
    "import pandas as pd\n",
    "\n",
    "# Load the original CSV file with all columns\n",
    "original_df = pd.read_csv('MTA_Congestion_Relief_Zone_Vehicle_Entries__Beginning_2025_20250404.csv')\n",
    "\n",
    "# Load the predictions CSV file\n",
    "predictions_df = pd.read_csv('future_predictions_by_region_vehicle.csv')\n",
    "\n",
    "# Extract the specified columns from the original CSV, using \"CRZ Entries\" as the column name\n",
    "selected_columns = original_df[['Toll 10 Minute Block', 'Detection Region', 'Vehicle Class', 'CRZ Entries']]\n",
    "\n",
    "# Append the extracted columns to the predictions DataFrame\n",
    "# This assumes that both DataFrames have the same row order.\n",
    "combined_df = pd.concat([predictions_df, selected_columns], axis=1)\n",
    "\n",
    "# Save the combined DataFrame to a new CSV file\n",
    "combined_df.to_csv('future_predictions_by_region_vehicle_with_details.csv', index=False)\n",
    "\n",
    "print(\"The CSV files have been successfully merged and saved as 'future_predictions_by_region_vehicle_with_details.csv'.\")\n"
   ]
  },
  {
   "cell_type": "code",
   "execution_count": null,
   "id": "91a7b4d0-7bab-42df-8a29-f7b2203d0266",
   "metadata": {},
   "outputs": [],
   "source": []
  }
 ],
 "metadata": {
  "kernelspec": {
   "display_name": "Python 3 (ipykernel)",
   "language": "python",
   "name": "python3"
  },
  "language_info": {
   "codemirror_mode": {
    "name": "ipython",
    "version": 3
   },
   "file_extension": ".py",
   "mimetype": "text/x-python",
   "name": "python",
   "nbconvert_exporter": "python",
   "pygments_lexer": "ipython3",
   "version": "3.12.5"
  }
 },
 "nbformat": 4,
 "nbformat_minor": 5
}
